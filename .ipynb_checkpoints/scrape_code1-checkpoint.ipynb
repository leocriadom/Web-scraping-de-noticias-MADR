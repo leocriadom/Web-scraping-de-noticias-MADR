{
 "cells": [
  {
   "cell_type": "markdown",
   "metadata": {},
   "source": [
    "Autor: Leonel Criado\n",
    "\n",
    "Proyecto: Análisis de noticias del Ministerio de Agricultura y Desarrollo Rural de Colombia\n",
    "\n",
    "Creado: 2020-05-16\n",
    "\n",
    "Meta: Código de webdriver para web scraping de links de noticias"
   ]
  },
  {
   "cell_type": "markdown",
   "metadata": {},
   "source": [
    "### Necesitamos:\n",
    "- [Selenium](http://selenium-python.readthedocs.io/)\n",
    "- [Chromedriver](https://chromedriver.chromium.org/downloads)\n",
    "- [xPath Finder](https://chrome.google.com/webstore/detail/xpath-finder/ihnknokegkbpmofmafnkoadfjkhlogph)"
   ]
  },
  {
   "cell_type": "code",
   "execution_count": 1,
   "metadata": {},
   "outputs": [],
   "source": [
    "# Librerías\n",
    "from selenium import webdriver\n",
    "from selenium.webdriver.support.ui import WebDriverWait\n",
    "from selenium.webdriver.support import expected_conditions as EC\n",
    "from selenium.webdriver.common.by import By\n",
    "import time\n",
    "import random\n",
    "import pickle"
   ]
  },
  {
   "cell_type": "code",
   "execution_count": 2,
   "metadata": {},
   "outputs": [],
   "source": [
    "# Existen otros webdrivers que se pueden utilizar:\n",
    "# browser = webdriver.Edge(executable_path=r\"C:/Users/lecm1/Documents/GitHub/MCPP_leonel.criado/proyecto final/msedgedriver.exe\")\n",
    "# browser = webdriver.Firefox(executable_path=r\"C:/Users/lecm1/Documents/GitHub/MCPP_leonel.criado/proyecto final/geckodriver.exe\")"
   ]
  },
  {
   "cell_type": "code",
   "execution_count": 3,
   "metadata": {},
   "outputs": [
    {
     "name": "stdout",
     "output_type": "stream",
     "text": [
      "Web scraping completado\n"
     ]
    }
   ],
   "source": [
    "browser = webdriver.Chrome(executable_path=r\"C:/Users/lecm1/Documents/GitHub/MCPP_leonel.criado/proyecto final/chromedriver.exe\")\n",
    "browser.get(\"https://www.minagricultura.gov.co/noticias/SitePages/PrensaNoticias.aspx\")\n",
    "browser.maximize_window()\n",
    "links_news = []\n",
    "n=0\n",
    "next_symbol=\"/html/body/form/div[12]/div[1]/div[2]/div[5]/div[1]/div[2]/div[3]/div[3]/div/div/div/table[2]/tbody/tr/td/a/img\"\n",
    "while n<289: # Número total de páginas con links de noticias del MADR 289\n",
    "    boton_submit = browser.find_element_by_xpath(next_symbol)\n",
    "    elems = browser.find_elements_by_css_selector(\".itemTitulo [href]\")\n",
    "    links = [elem.get_attribute('href') for elem in elems]\n",
    "    links_news.extend(links)\n",
    "    with open(\"links.txt\", \"wb\") as fp: # Pickling\n",
    "        pickle.dump(links_news, fp)\n",
    "    n=n+1\n",
    "    time.sleep(random.randint(6,10))\n",
    "    WebDriverWait(browser, 100).until(EC.element_to_be_clickable((By.XPATH, next_symbol))).click()\n",
    "    next_symbol=\"/html/body/form/div[12]/div[1]/div[2]/div[5]/div[1]/div[2]/div[3]/div[3]/div/div/div/table[2]/tbody/tr/td/a[3]/img\"\n",
    "browser.quit()\n",
    "print(\"Web scraping completado\")"
   ]
  }
 ],
 "metadata": {
  "kernelspec": {
   "display_name": "Python 3",
   "language": "python",
   "name": "python3"
  },
  "language_info": {
   "codemirror_mode": {
    "name": "ipython",
    "version": 3
   },
   "file_extension": ".py",
   "mimetype": "text/x-python",
   "name": "python",
   "nbconvert_exporter": "python",
   "pygments_lexer": "ipython3",
   "version": "3.7.6"
  }
 },
 "nbformat": 4,
 "nbformat_minor": 4
}
