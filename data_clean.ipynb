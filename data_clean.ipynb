{
 "cells": [
  {
   "cell_type": "markdown",
   "metadata": {},
   "source": [
    "Autor: Leonel Criado\n",
    "\n",
    "Proyecto: Análisis de noticias del Ministerio de Agricultura y Desarrollo Rural (MADR) de Colombia\n",
    "\n",
    "Creado: 2020-05-19\n",
    "\n",
    "Meta: Limpieza de la base de datos"
   ]
  },
  {
   "cell_type": "code",
   "execution_count": 1,
   "metadata": {},
   "outputs": [],
   "source": [
    "# Librerías\n",
    "import pandas as pd\n",
    "import numpy as np\n",
    "import re\n",
    "import nltk\n",
    "import string\n",
    "from nltk import word_tokenize\n",
    "from nltk.corpus import stopwords"
   ]
  },
  {
   "cell_type": "code",
   "execution_count": 2,
   "metadata": {
    "scrolled": true
   },
   "outputs": [
    {
     "data": {
      "text/plain": [
       "1000"
      ]
     },
     "execution_count": 2,
     "metadata": {},
     "output_type": "execute_result"
    }
   ],
   "source": [
    "batch1 = pd.read_pickle('df1_news.pkl')\n",
    "len(batch1)"
   ]
  },
  {
   "cell_type": "code",
   "execution_count": 3,
   "metadata": {},
   "outputs": [
    {
     "data": {
      "text/plain": [
       "1890"
      ]
     },
     "execution_count": 3,
     "metadata": {},
     "output_type": "execute_result"
    }
   ],
   "source": [
    "batch2 = pd.read_pickle('df2_news.pkl')\n",
    "len(batch2)"
   ]
  },
  {
   "cell_type": "code",
   "execution_count": 4,
   "metadata": {
    "scrolled": true
   },
   "outputs": [
    {
     "name": "stdout",
     "output_type": "stream",
     "text": [
      "Número de noticias: 2890\n"
     ]
    },
    {
     "data": {
      "text/html": [
       "<div>\n",
       "<style scoped>\n",
       "    .dataframe tbody tr th:only-of-type {\n",
       "        vertical-align: middle;\n",
       "    }\n",
       "\n",
       "    .dataframe tbody tr th {\n",
       "        vertical-align: top;\n",
       "    }\n",
       "\n",
       "    .dataframe thead th {\n",
       "        text-align: right;\n",
       "    }\n",
       "</style>\n",
       "<table border=\"1\" class=\"dataframe\">\n",
       "  <thead>\n",
       "    <tr style=\"text-align: right;\">\n",
       "      <th></th>\n",
       "      <th>dia</th>\n",
       "      <th>mes</th>\n",
       "      <th>año</th>\n",
       "      <th>ubicacion</th>\n",
       "      <th>titulo</th>\n",
       "      <th>url</th>\n",
       "      <th>noticia</th>\n",
       "      <th>seccion</th>\n",
       "    </tr>\n",
       "  </thead>\n",
       "  <tbody>\n",
       "    <tr>\n",
       "      <th>2885</th>\n",
       "      <td>31</td>\n",
       "      <td>07</td>\n",
       "      <td>[2013]</td>\n",
       "      <td>N.A.</td>\n",
       "      <td>La “URT” y el IGAC fijan parámetros técnicos p...</td>\n",
       "      <td>https://www.minagricultura.gov.co/noticias/Pag...</td>\n",
       "      <td>BOGOTÁ D.C. - La identificación de los predios...</td>\n",
       "      <td>2</td>\n",
       "    </tr>\n",
       "    <tr>\n",
       "      <th>2886</th>\n",
       "      <td>30</td>\n",
       "      <td>07</td>\n",
       "      <td>[2013]</td>\n",
       "      <td>N.A.</td>\n",
       "      <td>En más de 600 mil toneladas se incrementó la p...</td>\n",
       "      <td>https://www.minagricultura.gov.co/noticias/Pag...</td>\n",
       "      <td>Un notable avance en la producción de maíz en ...</td>\n",
       "      <td>2</td>\n",
       "    </tr>\n",
       "    <tr>\n",
       "      <th>2887</th>\n",
       "      <td>28</td>\n",
       "      <td>07</td>\n",
       "      <td>[2013]</td>\n",
       "      <td>N.A.</td>\n",
       "      <td>MINAGRICULTURA Y “DIGNIDAD ARROCERA” EVALÚAN A...</td>\n",
       "      <td>https://www.minagricultura.gov.co/noticias/Pag...</td>\n",
       "      <td>EL ESPINAL, TOLIMA.- El ministro de Agricultur...</td>\n",
       "      <td>2</td>\n",
       "    </tr>\n",
       "    <tr>\n",
       "      <th>2888</th>\n",
       "      <td>25</td>\n",
       "      <td>07</td>\n",
       "      <td>[2013]</td>\n",
       "      <td>N.A.</td>\n",
       "      <td>Más de mil familias campesinas del Catatumbo e...</td>\n",
       "      <td>https://www.minagricultura.gov.co/noticias/Pag...</td>\n",
       "      <td>BOGOTÁ D.C. - Veinte mil millones de pesos, de...</td>\n",
       "      <td>2</td>\n",
       "    </tr>\n",
       "    <tr>\n",
       "      <th>2889</th>\n",
       "      <td>25</td>\n",
       "      <td>07</td>\n",
       "      <td>[2013]</td>\n",
       "      <td>N.A.</td>\n",
       "      <td>“Se le hace más bien a la sociedad promover el...</td>\n",
       "      <td>https://www.minagricultura.gov.co/noticias/Pag...</td>\n",
       "      <td>“Vengo a poner la cara, a escucharlos y dentro...</td>\n",
       "      <td>2</td>\n",
       "    </tr>\n",
       "  </tbody>\n",
       "</table>\n",
       "</div>"
      ],
      "text/plain": [
       "     dia mes     año ubicacion  \\\n",
       "2885  31  07  [2013]      N.A.   \n",
       "2886  30  07  [2013]      N.A.   \n",
       "2887  28  07  [2013]      N.A.   \n",
       "2888  25  07  [2013]      N.A.   \n",
       "2889  25  07  [2013]      N.A.   \n",
       "\n",
       "                                                 titulo  \\\n",
       "2885  La “URT” y el IGAC fijan parámetros técnicos p...   \n",
       "2886  En más de 600 mil toneladas se incrementó la p...   \n",
       "2887  MINAGRICULTURA Y “DIGNIDAD ARROCERA” EVALÚAN A...   \n",
       "2888  Más de mil familias campesinas del Catatumbo e...   \n",
       "2889  “Se le hace más bien a la sociedad promover el...   \n",
       "\n",
       "                                                    url  \\\n",
       "2885  https://www.minagricultura.gov.co/noticias/Pag...   \n",
       "2886  https://www.minagricultura.gov.co/noticias/Pag...   \n",
       "2887  https://www.minagricultura.gov.co/noticias/Pag...   \n",
       "2888  https://www.minagricultura.gov.co/noticias/Pag...   \n",
       "2889  https://www.minagricultura.gov.co/noticias/Pag...   \n",
       "\n",
       "                                                noticia  seccion  \n",
       "2885  BOGOTÁ D.C. - La identificación de los predios...        2  \n",
       "2886  Un notable avance en la producción de maíz en ...        2  \n",
       "2887  EL ESPINAL, TOLIMA.- El ministro de Agricultur...        2  \n",
       "2888  BOGOTÁ D.C. - Veinte mil millones de pesos, de...        2  \n",
       "2889  “Vengo a poner la cara, a escucharlos y dentro...        2  "
      ]
     },
     "execution_count": 4,
     "metadata": {},
     "output_type": "execute_result"
    }
   ],
   "source": [
    "news = batch1.append(batch2, ignore_index=True)\n",
    "print(\"Número de noticias:\",len(news))\n",
    "news.tail()"
   ]
  },
  {
   "cell_type": "code",
   "execution_count": 5,
   "metadata": {},
   "outputs": [
    {
     "data": {
      "text/plain": [
       "pandas.core.frame.DataFrame"
      ]
     },
     "execution_count": 5,
     "metadata": {},
     "output_type": "execute_result"
    }
   ],
   "source": [
    "type(news)"
   ]
  },
  {
   "cell_type": "markdown",
   "metadata": {},
   "source": [
    "<div class=\"alert alert-success\">\n",
    "Limpieza\n",
    "</div>"
   ]
  },
  {
   "cell_type": "markdown",
   "metadata": {},
   "source": [
    "### Fecha"
   ]
  },
  {
   "cell_type": "code",
   "execution_count": 6,
   "metadata": {},
   "outputs": [],
   "source": [
    "news['dia'] = pd.to_numeric(news['dia'], errors = \"coerce\")\n",
    "news['mes'] = pd.to_numeric(news['mes'], errors = \"coerce\")\n",
    "news['año'] = [''.join(map(str, l)) for l in news['año']]\n",
    "news['año'] = pd.to_numeric(news['año'], errors = \"coerce\")"
   ]
  },
  {
   "cell_type": "code",
   "execution_count": 7,
   "metadata": {},
   "outputs": [
    {
     "data": {
      "text/plain": [
       "1.0      90\n",
       "2.0      75\n",
       "3.0      89\n",
       "4.0     101\n",
       "5.0     105\n",
       "6.0     107\n",
       "7.0      97\n",
       "8.0      88\n",
       "9.0      93\n",
       "10.0    104\n",
       "11.0     93\n",
       "12.0     88\n",
       "13.0     88\n",
       "14.0     83\n",
       "15.0    111\n",
       "16.0     97\n",
       "17.0     87\n",
       "18.0     98\n",
       "19.0     93\n",
       "20.0    102\n",
       "21.0     87\n",
       "22.0     94\n",
       "23.0     94\n",
       "24.0     94\n",
       "25.0     81\n",
       "26.0    110\n",
       "27.0    108\n",
       "28.0    104\n",
       "29.0     78\n",
       "30.0     95\n",
       "31.0     52\n",
       "NaN       4\n",
       "Name: dia, dtype: int64"
      ]
     },
     "execution_count": 7,
     "metadata": {},
     "output_type": "execute_result"
    }
   ],
   "source": [
    "news['dia'].value_counts(dropna=False).sort_index()"
   ]
  },
  {
   "cell_type": "code",
   "execution_count": 8,
   "metadata": {},
   "outputs": [
    {
     "data": {
      "text/plain": [
       "1.0     173\n",
       "2.0     218\n",
       "3.0     236\n",
       "4.0     238\n",
       "5.0     273\n",
       "6.0     197\n",
       "7.0     224\n",
       "8.0     269\n",
       "9.0     250\n",
       "10.0    298\n",
       "11.0    268\n",
       "12.0    242\n",
       "NaN       4\n",
       "Name: mes, dtype: int64"
      ]
     },
     "execution_count": 8,
     "metadata": {},
     "output_type": "execute_result"
    }
   ],
   "source": [
    "news['mes'].value_counts(dropna=False).sort_index()"
   ]
  },
  {
   "cell_type": "code",
   "execution_count": 9,
   "metadata": {},
   "outputs": [
    {
     "data": {
      "text/plain": [
       "2013.0    187\n",
       "2014.0    515\n",
       "2015.0    492\n",
       "2016.0    457\n",
       "2017.0    386\n",
       "2018.0    472\n",
       "2019.0    310\n",
       "2020.0     67\n",
       "NaN         4\n",
       "Name: año, dtype: int64"
      ]
     },
     "execution_count": 9,
     "metadata": {},
     "output_type": "execute_result"
    }
   ],
   "source": [
    "news['año'].value_counts(dropna=False).sort_index()"
   ]
  },
  {
   "cell_type": "code",
   "execution_count": 10,
   "metadata": {},
   "outputs": [],
   "source": [
    "# Formato de fecha\n",
    "news['fecha'] = pd.to_datetime(news.año * 10000 + news.mes * 100 + news.dia, format='%Y%m%d')"
   ]
  },
  {
   "cell_type": "markdown",
   "metadata": {},
   "source": [
    "### Missings"
   ]
  },
  {
   "cell_type": "code",
   "execution_count": 11,
   "metadata": {},
   "outputs": [
    {
     "data": {
      "text/html": [
       "<div>\n",
       "<style scoped>\n",
       "    .dataframe tbody tr th:only-of-type {\n",
       "        vertical-align: middle;\n",
       "    }\n",
       "\n",
       "    .dataframe tbody tr th {\n",
       "        vertical-align: top;\n",
       "    }\n",
       "\n",
       "    .dataframe thead th {\n",
       "        text-align: right;\n",
       "    }\n",
       "</style>\n",
       "<table border=\"1\" class=\"dataframe\">\n",
       "  <thead>\n",
       "    <tr style=\"text-align: right;\">\n",
       "      <th></th>\n",
       "      <th>dia</th>\n",
       "      <th>mes</th>\n",
       "      <th>año</th>\n",
       "      <th>ubicacion</th>\n",
       "      <th>titulo</th>\n",
       "      <th>url</th>\n",
       "      <th>noticia</th>\n",
       "      <th>seccion</th>\n",
       "      <th>fecha</th>\n",
       "    </tr>\n",
       "  </thead>\n",
       "  <tbody>\n",
       "    <tr>\n",
       "      <th>0</th>\n",
       "      <td>18.0</td>\n",
       "      <td>5.0</td>\n",
       "      <td>2020.0</td>\n",
       "      <td>Bogotá</td>\n",
       "      <td>Con rigurosos protocolos de bioseguridad, inic...</td>\n",
       "      <td>https://www.minagricultura.gov.co/noticias/Pag...</td>\n",
       "      <td>Con el objeto de blindar el estatus sanitario ...</td>\n",
       "      <td>2</td>\n",
       "      <td>2020-05-18</td>\n",
       "    </tr>\n",
       "    <tr>\n",
       "      <th>1</th>\n",
       "      <td>15.0</td>\n",
       "      <td>5.0</td>\n",
       "      <td>2020.0</td>\n",
       "      <td>Bogotá</td>\n",
       "      <td>Con programa de apoyo a la comercialización se...</td>\n",
       "      <td>https://www.minagricultura.gov.co/noticias/Pag...</td>\n",
       "      <td>Se asignaron recursos por $2.700 millones para...</td>\n",
       "      <td>2</td>\n",
       "      <td>2020-05-15</td>\n",
       "    </tr>\n",
       "    <tr>\n",
       "      <th>2</th>\n",
       "      <td>15.0</td>\n",
       "      <td>5.0</td>\n",
       "      <td>2020.0</td>\n",
       "      <td>Bogotá</td>\n",
       "      <td>El sector agropecuario creció 6,8% e impulsó l...</td>\n",
       "      <td>https://www.minagricultura.gov.co/noticias/Pag...</td>\n",
       "      <td>El valor agregado del PIB agropecuario es el s...</td>\n",
       "      <td>2</td>\n",
       "      <td>2020-05-15</td>\n",
       "    </tr>\n",
       "    <tr>\n",
       "      <th>3</th>\n",
       "      <td>14.0</td>\n",
       "      <td>5.0</td>\n",
       "      <td>2020.0</td>\n",
       "      <td>Bogotá</td>\n",
       "      <td>MinAgricultura dotará con riego interpredial a...</td>\n",
       "      <td>https://www.minagricultura.gov.co/noticias/Pag...</td>\n",
       "      <td>En el marco del Plan Nacional de Riego y Drena...</td>\n",
       "      <td>2</td>\n",
       "      <td>2020-05-14</td>\n",
       "    </tr>\n",
       "    <tr>\n",
       "      <th>4</th>\n",
       "      <td>8.0</td>\n",
       "      <td>5.0</td>\n",
       "      <td>2020.0</td>\n",
       "      <td>Bogotá</td>\n",
       "      <td>MinAgricultura abre convocatoria para el “Camp...</td>\n",
       "      <td>https://www.minagricultura.gov.co/noticias/Pag...</td>\n",
       "      <td>La apuesta es beneficiar a más de 9 mil famili...</td>\n",
       "      <td>2</td>\n",
       "      <td>2020-05-08</td>\n",
       "    </tr>\n",
       "  </tbody>\n",
       "</table>\n",
       "</div>"
      ],
      "text/plain": [
       "    dia  mes     año ubicacion  \\\n",
       "0  18.0  5.0  2020.0    Bogotá   \n",
       "1  15.0  5.0  2020.0    Bogotá   \n",
       "2  15.0  5.0  2020.0    Bogotá   \n",
       "3  14.0  5.0  2020.0    Bogotá   \n",
       "4   8.0  5.0  2020.0    Bogotá   \n",
       "\n",
       "                                              titulo  \\\n",
       "0  Con rigurosos protocolos de bioseguridad, inic...   \n",
       "1  Con programa de apoyo a la comercialización se...   \n",
       "2  El sector agropecuario creció 6,8% e impulsó l...   \n",
       "3  MinAgricultura dotará con riego interpredial a...   \n",
       "4  MinAgricultura abre convocatoria para el “Camp...   \n",
       "\n",
       "                                                 url  \\\n",
       "0  https://www.minagricultura.gov.co/noticias/Pag...   \n",
       "1  https://www.minagricultura.gov.co/noticias/Pag...   \n",
       "2  https://www.minagricultura.gov.co/noticias/Pag...   \n",
       "3  https://www.minagricultura.gov.co/noticias/Pag...   \n",
       "4  https://www.minagricultura.gov.co/noticias/Pag...   \n",
       "\n",
       "                                             noticia  seccion      fecha  \n",
       "0  Con el objeto de blindar el estatus sanitario ...        2 2020-05-18  \n",
       "1  Se asignaron recursos por $2.700 millones para...        2 2020-05-15  \n",
       "2  El valor agregado del PIB agropecuario es el s...        2 2020-05-15  \n",
       "3  En el marco del Plan Nacional de Riego y Drena...        2 2020-05-14  \n",
       "4  La apuesta es beneficiar a más de 9 mil famili...        2 2020-05-08  "
      ]
     },
     "execution_count": 11,
     "metadata": {},
     "output_type": "execute_result"
    }
   ],
   "source": [
    "news.head()"
   ]
  },
  {
   "cell_type": "code",
   "execution_count": 12,
   "metadata": {
    "scrolled": true
   },
   "outputs": [
    {
     "data": {
      "text/html": [
       "<div>\n",
       "<style scoped>\n",
       "    .dataframe tbody tr th:only-of-type {\n",
       "        vertical-align: middle;\n",
       "    }\n",
       "\n",
       "    .dataframe tbody tr th {\n",
       "        vertical-align: top;\n",
       "    }\n",
       "\n",
       "    .dataframe thead th {\n",
       "        text-align: right;\n",
       "    }\n",
       "</style>\n",
       "<table border=\"1\" class=\"dataframe\">\n",
       "  <thead>\n",
       "    <tr style=\"text-align: right;\">\n",
       "      <th></th>\n",
       "      <th>dia</th>\n",
       "      <th>mes</th>\n",
       "      <th>año</th>\n",
       "      <th>ubicacion</th>\n",
       "      <th>titulo</th>\n",
       "      <th>url</th>\n",
       "      <th>noticia</th>\n",
       "      <th>seccion</th>\n",
       "      <th>fecha</th>\n",
       "    </tr>\n",
       "  </thead>\n",
       "  <tbody>\n",
       "    <tr>\n",
       "      <th>1550</th>\n",
       "      <td>NaN</td>\n",
       "      <td>NaN</td>\n",
       "      <td>NaN</td>\n",
       "      <td>N.A.</td>\n",
       "      <td>N.A</td>\n",
       "      <td>https://www.minagricultura.gov.co/noticias/Pag...</td>\n",
       "      <td></td>\n",
       "      <td>0</td>\n",
       "      <td>NaT</td>\n",
       "    </tr>\n",
       "    <tr>\n",
       "      <th>1551</th>\n",
       "      <td>NaN</td>\n",
       "      <td>NaN</td>\n",
       "      <td>NaN</td>\n",
       "      <td>N.A.</td>\n",
       "      <td>N.A</td>\n",
       "      <td>https://www.minagricultura.gov.co/noticias/Pag...</td>\n",
       "      <td></td>\n",
       "      <td>0</td>\n",
       "      <td>NaT</td>\n",
       "    </tr>\n",
       "    <tr>\n",
       "      <th>2818</th>\n",
       "      <td>NaN</td>\n",
       "      <td>NaN</td>\n",
       "      <td>NaN</td>\n",
       "      <td>N.A.</td>\n",
       "      <td>Convocatoria. Exposicion pública de resultados...</td>\n",
       "      <td>https://www.minagricultura.gov.co/noticias/Pag...</td>\n",
       "      <td>El Programa de Formalización de la Propiedad R...</td>\n",
       "      <td>0</td>\n",
       "      <td>NaT</td>\n",
       "    </tr>\n",
       "    <tr>\n",
       "      <th>2859</th>\n",
       "      <td>NaN</td>\n",
       "      <td>NaN</td>\n",
       "      <td>NaN</td>\n",
       "      <td>N.A.</td>\n",
       "      <td>Al menos $15 mil millones necesitaría un campe...</td>\n",
       "      <td>https://www.minagricultura.gov.co/noticias/Pag...</td>\n",
       "      <td>En un debate de control político en la Comisió...</td>\n",
       "      <td>0</td>\n",
       "      <td>NaT</td>\n",
       "    </tr>\n",
       "  </tbody>\n",
       "</table>\n",
       "</div>"
      ],
      "text/plain": [
       "      dia  mes  año ubicacion  \\\n",
       "1550  NaN  NaN  NaN      N.A.   \n",
       "1551  NaN  NaN  NaN      N.A.   \n",
       "2818  NaN  NaN  NaN      N.A.   \n",
       "2859  NaN  NaN  NaN      N.A.   \n",
       "\n",
       "                                                 titulo  \\\n",
       "1550                                                N.A   \n",
       "1551                                                N.A   \n",
       "2818  Convocatoria. Exposicion pública de resultados...   \n",
       "2859  Al menos $15 mil millones necesitaría un campe...   \n",
       "\n",
       "                                                    url  \\\n",
       "1550  https://www.minagricultura.gov.co/noticias/Pag...   \n",
       "1551  https://www.minagricultura.gov.co/noticias/Pag...   \n",
       "2818  https://www.minagricultura.gov.co/noticias/Pag...   \n",
       "2859  https://www.minagricultura.gov.co/noticias/Pag...   \n",
       "\n",
       "                                                noticia  seccion fecha  \n",
       "1550                                                           0   NaT  \n",
       "1551                                                           0   NaT  \n",
       "2818  El Programa de Formalización de la Propiedad R...        0   NaT  \n",
       "2859  En un debate de control político en la Comisió...        0   NaT  "
      ]
     },
     "execution_count": 12,
     "metadata": {},
     "output_type": "execute_result"
    }
   ],
   "source": [
    "news[news[\"fecha\"].isnull()] # Sin fecha"
   ]
  },
  {
   "cell_type": "code",
   "execution_count": 13,
   "metadata": {},
   "outputs": [
    {
     "name": "stdout",
     "output_type": "stream",
     "text": [
      "Sin titulo:\n",
      "1550    \n",
      "1551    \n",
      "Name: noticia, dtype: object\n",
      "Sin noticia:\n",
      "1550    \n",
      "1551    \n",
      "Name: noticia, dtype: object\n"
     ]
    }
   ],
   "source": [
    "print(\"Sin titulo:\")\n",
    "print(news[\"noticia\"][news[\"titulo\"] == 'N.A'])\n",
    "print(\"Sin noticia:\")\n",
    "print(news[\"noticia\"][news[\"noticia\"] == \"\"])"
   ]
  },
  {
   "cell_type": "code",
   "execution_count": 14,
   "metadata": {},
   "outputs": [
    {
     "name": "stdout",
     "output_type": "stream",
     "text": [
      "Sin acceso:\n",
      "https://www.minagricultura.gov.co/noticias/Paginas/familias-rurales-se-atenderan-con-proyecto-ejecutado-por-MinAgricultura.aspx\n",
      "https://www.minagricultura.gov.co/noticias/Paginas/Avanza-di%C3%A1logo-entre-el-Gobierno-y-organizaciones-campesinas-del-Catatumbo.aspx\n",
      "Sin fecha:\n",
      "https://www.minagricultura.gov.co/noticias/Paginas/Convocatoria.%20Exposicion%20p%C3%BAblica%20de%20resultados%20preliminares%20en%20el%20departamento%20del%20Cauca.aspx\n",
      "https://www.minagricultura.gov.co/noticias/Paginas/Al-menos-$15-mil-millones-necesitar%C3%ADa-un-campesino-para-la-adaptaci%C3%B3n-de-una-%E2%80%9Cuaf%E2%80%9D-en-la-Altillanura-del-Vichada-.aspx\n"
     ]
    }
   ],
   "source": [
    "print(\"Sin acceso:\")\n",
    "print(news[\"url\"][1550])\n",
    "print(news[\"url\"][1551])\n",
    "print(\"Sin fecha:\")\n",
    "print(news[\"url\"][2818])\n",
    "print(news[\"url\"][2859])"
   ]
  },
  {
   "cell_type": "code",
   "execution_count": 15,
   "metadata": {
    "scrolled": true
   },
   "outputs": [],
   "source": [
    "#news.iloc[1551]"
   ]
  },
  {
   "cell_type": "code",
   "execution_count": 16,
   "metadata": {},
   "outputs": [
    {
     "data": {
      "text/plain": [
       "2    2886\n",
       "0       4\n",
       "Name: seccion, dtype: int64"
      ]
     },
     "execution_count": 16,
     "metadata": {},
     "output_type": "execute_result"
    }
   ],
   "source": [
    "news['seccion'].value_counts(dropna=False) \n",
    "# Si sección = 2 se capturó la noticia con los patrones fijados de la función remove_tags()."
   ]
  },
  {
   "cell_type": "code",
   "execution_count": 17,
   "metadata": {},
   "outputs": [
    {
     "name": "stdout",
     "output_type": "stream",
     "text": [
      "1550                                                     \n",
      "1551                                                     \n",
      "2818    El Programa de Formalización de la Propiedad R...\n",
      "2859    En un debate de control político en la Comisió...\n",
      "Name: noticia, dtype: object\n",
      "Noticias capturadas sin seccion:\n",
      "https://www.minagricultura.gov.co/noticias/Paginas/agro-de-Santander.aspx\n",
      "https://www.minagricultura.gov.co/noticias/Paginas/mejorar-en-productividad-y-competitividad.aspx\n"
     ]
    }
   ],
   "source": [
    "print(news[\"noticia\"][news[\"seccion\"] == 0])\n",
    "print(\"Noticias capturadas sin seccion:\")\n",
    "print(news[\"url\"][2018]) # Se verificó y la noticia fue capturada completamente.\n",
    "#print(news[\"noticia\"][2018])\n",
    "print(news[\"url\"][2059]) # Se verificó y la noticia fue capturada completamente.\n",
    "#print(news[\"noticia\"][2059])"
   ]
  },
  {
   "cell_type": "markdown",
   "metadata": {},
   "source": [
    "### Ubicación"
   ]
  },
  {
   "cell_type": "code",
   "execution_count": 18,
   "metadata": {},
   "outputs": [
    {
     "data": {
      "text/plain": [
       "NaN           1528\n",
       "Bogotá         772\n",
       "Rural           40\n",
       "país            14\n",
       "Popayán         13\n",
       "              ... \n",
       "entregadas       1\n",
       "agregado         1\n",
       "ganaderos        1\n",
       "1789             1\n",
       "eficiente        1\n",
       "Name: ubicacion, Length: 379, dtype: int64"
      ]
     },
     "execution_count": 18,
     "metadata": {},
     "output_type": "execute_result"
    }
   ],
   "source": [
    "news.loc[news['ubicacion'] == 'N.A.','ubicacion'] = np.nan # Reemplazando missings\n",
    "news['ubicacion'].value_counts(dropna=False)"
   ]
  },
  {
   "cell_type": "code",
   "execution_count": 19,
   "metadata": {},
   "outputs": [
    {
     "data": {
      "text/plain": [
       "array(['Bogotá', nan, 'm', 'adscritas', 'Vacunación', 'trabajo',\n",
       "       'firmeza', 'Tunja', 'Rural', 'meta', 'China', 'system',\n",
       "       'agropecuaria', 'noviembre', 'País', 'Carreño', 'Nacional',\n",
       "       'aprovechadas', 'Valledupar', 'Tumaco', 'Maíz', 'Dos', 'Medellín',\n",
       "       'Villanueva', 'Osos', 'semiblanqueado', 'Marta', 'Dibulla',\n",
       "       'Arroz', '36', 'personas', 'Gobierno', 'Shanghái', 'Quibdó',\n",
       "       'Agroexpo', 'julio', 'franco', 'títulos', 'Andrés', 'Aires', '5',\n",
       "       'Montería', 'á', 'colombiano', 'Aracataca', 'Agropecuarios',\n",
       "       'Cartagena', 'Cali', 'Barranquilla', 'enamorados', 'Palmira',\n",
       "       'país', 'Guaviare', 'ogotá', 'vez', '2018', 'forma', 'rural',\n",
       "       'que', 'Soacha', 'Pasto', 'y', 'productores', 'Chinú', 'vida',\n",
       "       'Malambo', 'Marquetalia', 'Riohacha', 'Octubre', '2017',\n",
       "       'Villavicencio', '9', 'Filandia', '1', 'septiembre', 'Bucaramanga',\n",
       "       'Cafeteros', 'Tibú', 'campo', 'Cumbal', 'Buenaventura', 'Ingresos',\n",
       "       'Quinua', 'Corporación', 'Bolívar', 'Argentina', 'Huila',\n",
       "       'Republica', 'Agropecuaria', 'Mocoa', 'positivas', 'año',\n",
       "       'Guayabal', 'Mercaderes', 'Pereira', 'Espinal', 'Yopal', 'Palma',\n",
       "       'Fuentedeoro', 'Boyacá', 'alimentos', 'Zuluaga', 'Juan', 'Maní',\n",
       "       'inflación', 'Mesa', 'Santos', 'Chaparral', 'Caldono', 'Arauca',\n",
       "       'ulia', 'Campo', 'Lopez', 'Uribe', 'islas', 'Quimbaya', 'Popayán',\n",
       "       'Banco', 'Armero', 'Puracé', 'Silva', 'Lorica', 'Dorada', 'Tame',\n",
       "       '000', 'Bananera', 'Sábado', 'productivos', '2015', 'proyecto',\n",
       "       'Nariño', 'Dabeiba', 'afiliadas', 'Manizales', 'acceso', 'suelo',\n",
       "       'días', 'derivados', 'Arial', 'DANE', 'exportadora', 'pasifloras',\n",
       "       'parte', 'Caguán', 'Otanche', 'Iragorri', 'hídrico', 'DC', 'mismo',\n",
       "       'IVA', 'flores', 'urbaco', 'indígenas', 'Leticia', 'Roma',\n",
       "       'millones', 'Toribío', 'Florencia', 'Fonseca', 'Rosas', 'les',\n",
       "       'Campesino', 'Igualmente', '17', 'gotá', 'mañana', 'productos',\n",
       "       '2012', 'Washington', 'Solano', 'maquinaria', 'hoy', 'C',\n",
       "       'agropecuario', 'esto', 'Quilichao', 'Córdoba', 'Siembra',\n",
       "       'Pacifico', 'París', 'predios', 'tecnológica', 'Cauca', 'Florida',\n",
       "       'tahoma', 'Colombia', 'Neiva', 'comercial', 'Villapinzón',\n",
       "       'encuentro', 'Rosal', 'años', 'Algodón', 'familiar', 'ganaderos',\n",
       "       'Paz', 'Productivas', '2007', 'comercio', 'DERROCHE', 'Aunap',\n",
       "       'Cucunubá', 'condonables', 'etapa', 'Antioquia', 'departamentos',\n",
       "       'Chucurí', 'mitigación', 'Agricultura', 'Meta', 'Atlántico',\n",
       "       'arroz', '30', 'concentrados', 'ejecución', 'Subachoque',\n",
       "       'cuatrienio', '20', 'evento', 'Turbo', 'riesgo', 'Rosario', 'eso',\n",
       "       '0', 'presentó', 'pesos', 'Unidos', 'Deportes', 'estudiará', '10',\n",
       "       'A', 'Milán', 'Café', 'Derecha', 'anterior', 'solución',\n",
       "       'agrícolas', 'empleo', 'elimina', 'Agropecuario', 'República',\n",
       "       'Sabogal', 'Agroencuentro', 'subsidios', 'verde', 'Ustedes',\n",
       "       'fertilizantes', 'seco', 'Monterìa', 'Canalete', 'Tierras',\n",
       "       'banco', 'Retorno', 'Orientales', 'Granada', 'Identificación',\n",
       "       'municipios', 'agro', 'ICA', 'lugar', 'oportunidad', 'Berlín',\n",
       "       'Flores', 'hectáreas', 'paz', 'premisa', 'plazo', 'campesinos',\n",
       "       'UPRA', 'climáticos', '8', '22', 'diversas', '7', 'papa', 'Mompox',\n",
       "       'Barrancabermeja', 'variedad', 'Panamá', 'arial', 'fecha',\n",
       "       'precios', 'fundación', 'juntos', 'Rionegro', 'Ministro', 'Torore',\n",
       "       'frutas', 'Ministerio', 'técnica', 'familias', 'campesina', 'mesa',\n",
       "       'RES', 'alcaldes', 'anuales', 'desigualdades', 'predio', '2013',\n",
       "       'tema', 'potable', 'América', 'peruano', 'avícola', 'novedoso',\n",
       "       'Apartadó', 'públicos', 'Cúcuta', 'semestre', 'Ley',\n",
       "       'internacionales', 'Unilever', 'agricultura', 'vías', 'proyectos',\n",
       "       'fique', 'información', 'insumos', 'moderno', 'Betancourt',\n",
       "       'Santander', 'autorización', 'economía', 'obstante', 'Pitalito',\n",
       "       'vidas', '66', 'Jiménez', 'comisionistas', 'rurales',\n",
       "       'adjudicadas', 'SAC', 'cereal', 'hortalizas', 'Ganadería',\n",
       "       'apoyado', 'descuiden', '2', 'SECO', 'agropecuarias', 'indique',\n",
       "       'PROSOYA', 'Directivo', 'Wilches', 'internacional', 'tintico',\n",
       "       'paros', 'MFS', '2014', 'Ibagué', 'Luna', 'eficiente', 'Ipiales',\n",
       "       'cultivo', 'litros', 'entregadas', 'prioridad', 'Agrario',\n",
       "       'ventajas', 'agregado', 'conocer', 'económica', 'caficultura',\n",
       "       'redacción', 'cítricos', 'moral', 'está', 'Haime', 'Lizarralde',\n",
       "       'Colinas', 'Astorquiza', 'Indias', 'Quintero', 'Leche',\n",
       "       'municipio', 'Sabanalarga', 'Tomate', '1789', '31669'],\n",
       "      dtype=object)"
      ]
     },
     "execution_count": 19,
     "metadata": {},
     "output_type": "execute_result"
    }
   ],
   "source": [
    "news.ubicacion.unique()"
   ]
  },
  {
   "cell_type": "code",
   "execution_count": 20,
   "metadata": {
    "scrolled": true
   },
   "outputs": [
    {
     "name": "stdout",
     "output_type": "stream",
     "text": [
      "Sin ubicación: https://www.minagricultura.gov.co/noticias/Paginas/Se-posesion%C3%B3-el-nuevo-viceministro-de-Desarrollo-Rural,-Juan-Camilo-Restrepo.aspx\n",
      "Sin ubicación: https://www.minagricultura.gov.co/noticias/Paginas/%E2%80%9CEl-Gobierno-garantiza-cadena-log%C3%ADstica-de-abastecimiento-de-alimentos,-desde-la-producci%C3%B3n,-transporte-y-distribuci%C3%B3n%E2%80%9D-Min.aspx\n",
      "Sin ubicación: https://www.minagricultura.gov.co/noticias/Paginas/El-Gobierno-no-estigmatiza-las-zonas-de-reserva-campesina-Minagricultura.aspx\n",
      "Sin ubicación: https://www.minagricultura.gov.co/noticias/Paginas/M%C3%A1s-de-mil-familias-campesinas-del-Catatumbo-estrenar%C3%A1n-casa,-gracias-al--programa-de-vivienda-rural-del-Gobierno.aspx\n"
     ]
    }
   ],
   "source": [
    "print(\"Sin ubicación:\",news[\"url\"][5])\n",
    "print(\"Sin ubicación:\",news[\"url\"][29])\n",
    "print(\"Sin ubicación:\",news[\"url\"][2884])\n",
    "print(\"Sin ubicación:\",news[\"url\"][2888])"
   ]
  },
  {
   "cell_type": "markdown",
   "metadata": {},
   "source": [
    "### Noticias vacías o duplicadas"
   ]
  },
  {
   "cell_type": "code",
   "execution_count": 21,
   "metadata": {},
   "outputs": [
    {
     "data": {
      "text/plain": [
       "2888"
      ]
     },
     "execution_count": 21,
     "metadata": {},
     "output_type": "execute_result"
    }
   ],
   "source": [
    "news = news[news.noticia != \"\"] # Vacías\n",
    "len(news)"
   ]
  },
  {
   "cell_type": "code",
   "execution_count": 22,
   "metadata": {},
   "outputs": [
    {
     "data": {
      "text/plain": [
       "2888"
      ]
     },
     "execution_count": 22,
     "metadata": {},
     "output_type": "execute_result"
    }
   ],
   "source": [
    "news.drop_duplicates(subset = ('noticia'), inplace = True) # Duplicados 1\n",
    "len(news)"
   ]
  },
  {
   "cell_type": "code",
   "execution_count": 23,
   "metadata": {},
   "outputs": [
    {
     "data": {
      "text/plain": [
       "2888"
      ]
     },
     "execution_count": 23,
     "metadata": {},
     "output_type": "execute_result"
    }
   ],
   "source": [
    "news.drop_duplicates(subset = ('url'), inplace = True) # Duplicados 2\n",
    "len(news)"
   ]
  },
  {
   "cell_type": "code",
   "execution_count": 24,
   "metadata": {
    "scrolled": true
   },
   "outputs": [
    {
     "data": {
      "text/html": [
       "<div>\n",
       "<style scoped>\n",
       "    .dataframe tbody tr th:only-of-type {\n",
       "        vertical-align: middle;\n",
       "    }\n",
       "\n",
       "    .dataframe tbody tr th {\n",
       "        vertical-align: top;\n",
       "    }\n",
       "\n",
       "    .dataframe thead th {\n",
       "        text-align: right;\n",
       "    }\n",
       "</style>\n",
       "<table border=\"1\" class=\"dataframe\">\n",
       "  <thead>\n",
       "    <tr style=\"text-align: right;\">\n",
       "      <th></th>\n",
       "      <th>dia</th>\n",
       "      <th>mes</th>\n",
       "      <th>año</th>\n",
       "      <th>ubicacion</th>\n",
       "      <th>titulo</th>\n",
       "      <th>url</th>\n",
       "      <th>noticia</th>\n",
       "      <th>seccion</th>\n",
       "      <th>fecha</th>\n",
       "    </tr>\n",
       "  </thead>\n",
       "  <tbody>\n",
       "    <tr>\n",
       "      <th>1429</th>\n",
       "      <td>5.0</td>\n",
       "      <td>8.0</td>\n",
       "      <td>2016.0</td>\n",
       "      <td>NaN</td>\n",
       "      <td>Con la paz, programas de sustitución de cultiv...</td>\n",
       "      <td>https://www.minagricultura.gov.co/noticias/Pag...</td>\n",
       "      <td>\"la región tiene una inmensa capacidad product...</td>\n",
       "      <td>2</td>\n",
       "      <td>2016-08-05</td>\n",
       "    </tr>\n",
       "    <tr>\n",
       "      <th>2748</th>\n",
       "      <td>7.0</td>\n",
       "      <td>11.0</td>\n",
       "      <td>2013.0</td>\n",
       "      <td>NaN</td>\n",
       "      <td>En Quindio Minagricultura busca nuevos cimient...</td>\n",
       "      <td>https://www.minagricultura.gov.co/noticias/Pag...</td>\n",
       "      <td>• Ministro de Agricultura y Desarrollo Rural s...</td>\n",
       "      <td>2</td>\n",
       "      <td>2013-11-07</td>\n",
       "    </tr>\n",
       "  </tbody>\n",
       "</table>\n",
       "</div>"
      ],
      "text/plain": [
       "      dia   mes     año ubicacion  \\\n",
       "1429  5.0   8.0  2016.0       NaN   \n",
       "2748  7.0  11.0  2013.0       NaN   \n",
       "\n",
       "                                                 titulo  \\\n",
       "1429  Con la paz, programas de sustitución de cultiv...   \n",
       "2748  En Quindio Minagricultura busca nuevos cimient...   \n",
       "\n",
       "                                                    url  \\\n",
       "1429  https://www.minagricultura.gov.co/noticias/Pag...   \n",
       "2748  https://www.minagricultura.gov.co/noticias/Pag...   \n",
       "\n",
       "                                                noticia  seccion      fecha  \n",
       "1429  \"la región tiene una inmensa capacidad product...        2 2016-08-05  \n",
       "2748  • Ministro de Agricultura y Desarrollo Rural s...        2 2013-11-07  "
      ]
     },
     "execution_count": 24,
     "metadata": {},
     "output_type": "execute_result"
    }
   ],
   "source": [
    "news[news.duplicated(subset = ('titulo', 'fecha'))] # Duplicados 3"
   ]
  },
  {
   "cell_type": "code",
   "execution_count": 25,
   "metadata": {
    "scrolled": true
   },
   "outputs": [
    {
     "name": "stdout",
     "output_type": "stream",
     "text": [
      "Con la paz, programas de sustitución de cultivos ilícitos tendrán mejores resultados\n",
      "1428   2016-08-05\n",
      "1429   2016-08-05\n",
      "Name: fecha, dtype: datetime64[ns]\n",
      "https://www.minagricultura.gov.co/noticias/Paginas/Con-la-paz,-sustitucion-de-ilicitos-mejores-resultados.aspx\n",
      "https://www.minagricultura.gov.co/noticias/Paginas/Con-la-paz,-programas-de-sustituci%C3%B3n-de-cultivos-il%C3%ADcitos-tendr%C3%A1n-mejores-resultados.aspx\n",
      "En Quindio Minagricultura busca nuevos cimientos para la transformacion del agro\n",
      "2747   2013-11-07\n",
      "2748   2013-11-07\n",
      "Name: fecha, dtype: datetime64[ns]\n",
      "https://www.minagricultura.gov.co/noticias/Paginas/En%20Quindio%20Minagricultura%20busca%20nuevos%20cimientos%20para%20la%20transformacion%20del%20agro.aspx\n",
      "https://www.minagricultura.gov.co/noticias/Paginas/En-Quindio-Minagricultura-busca-nuevos-cimientos-para-la-transformacion-del-agro.aspx\n"
     ]
    }
   ],
   "source": [
    "print(news[\"titulo\"][1429])\n",
    "print(news[\"fecha\"][news[\"titulo\"] == \"Con la paz, programas de sustitución de cultivos ilícitos tendrán mejores resultados\"])\n",
    "print(news[\"url\"][1428])\n",
    "print(news[\"url\"][1429])\n",
    "print(news[\"titulo\"][2748])\n",
    "print(news[\"fecha\"][news[\"titulo\"] == \"En Quindio Minagricultura busca nuevos cimientos para la transformacion del agro\"])\n",
    "print(news[\"url\"][2747])\n",
    "print(news[\"url\"][2748])"
   ]
  },
  {
   "cell_type": "code",
   "execution_count": 26,
   "metadata": {},
   "outputs": [
    {
     "data": {
      "text/plain": [
       "2886"
      ]
     },
     "execution_count": 26,
     "metadata": {},
     "output_type": "execute_result"
    }
   ],
   "source": [
    "news.drop_duplicates(subset = ('titulo', 'fecha'), inplace = True, keep = 'last', ignore_index = True)\n",
    "len(news)"
   ]
  },
  {
   "cell_type": "code",
   "execution_count": 27,
   "metadata": {
    "scrolled": true
   },
   "outputs": [
    {
     "data": {
      "text/html": [
       "<div>\n",
       "<style scoped>\n",
       "    .dataframe tbody tr th:only-of-type {\n",
       "        vertical-align: middle;\n",
       "    }\n",
       "\n",
       "    .dataframe tbody tr th {\n",
       "        vertical-align: top;\n",
       "    }\n",
       "\n",
       "    .dataframe thead th {\n",
       "        text-align: right;\n",
       "    }\n",
       "</style>\n",
       "<table border=\"1\" class=\"dataframe\">\n",
       "  <thead>\n",
       "    <tr style=\"text-align: right;\">\n",
       "      <th></th>\n",
       "      <th>dia</th>\n",
       "      <th>mes</th>\n",
       "      <th>año</th>\n",
       "      <th>ubicacion</th>\n",
       "      <th>titulo</th>\n",
       "      <th>url</th>\n",
       "      <th>noticia</th>\n",
       "      <th>seccion</th>\n",
       "      <th>fecha</th>\n",
       "    </tr>\n",
       "  </thead>\n",
       "  <tbody>\n",
       "    <tr>\n",
       "      <th>2881</th>\n",
       "      <td>31.0</td>\n",
       "      <td>7.0</td>\n",
       "      <td>2013.0</td>\n",
       "      <td>NaN</td>\n",
       "      <td>La “URT” y el IGAC fijan parámetros técnicos p...</td>\n",
       "      <td>https://www.minagricultura.gov.co/noticias/Pag...</td>\n",
       "      <td>BOGOTÁ D.C. - La identificación de los predios...</td>\n",
       "      <td>2</td>\n",
       "      <td>2013-07-31</td>\n",
       "    </tr>\n",
       "    <tr>\n",
       "      <th>2882</th>\n",
       "      <td>30.0</td>\n",
       "      <td>7.0</td>\n",
       "      <td>2013.0</td>\n",
       "      <td>NaN</td>\n",
       "      <td>En más de 600 mil toneladas se incrementó la p...</td>\n",
       "      <td>https://www.minagricultura.gov.co/noticias/Pag...</td>\n",
       "      <td>Un notable avance en la producción de maíz en ...</td>\n",
       "      <td>2</td>\n",
       "      <td>2013-07-30</td>\n",
       "    </tr>\n",
       "    <tr>\n",
       "      <th>2883</th>\n",
       "      <td>28.0</td>\n",
       "      <td>7.0</td>\n",
       "      <td>2013.0</td>\n",
       "      <td>NaN</td>\n",
       "      <td>MINAGRICULTURA Y “DIGNIDAD ARROCERA” EVALÚAN A...</td>\n",
       "      <td>https://www.minagricultura.gov.co/noticias/Pag...</td>\n",
       "      <td>EL ESPINAL, TOLIMA.- El ministro de Agricultur...</td>\n",
       "      <td>2</td>\n",
       "      <td>2013-07-28</td>\n",
       "    </tr>\n",
       "    <tr>\n",
       "      <th>2884</th>\n",
       "      <td>25.0</td>\n",
       "      <td>7.0</td>\n",
       "      <td>2013.0</td>\n",
       "      <td>NaN</td>\n",
       "      <td>Más de mil familias campesinas del Catatumbo e...</td>\n",
       "      <td>https://www.minagricultura.gov.co/noticias/Pag...</td>\n",
       "      <td>BOGOTÁ D.C. - Veinte mil millones de pesos, de...</td>\n",
       "      <td>2</td>\n",
       "      <td>2013-07-25</td>\n",
       "    </tr>\n",
       "    <tr>\n",
       "      <th>2885</th>\n",
       "      <td>25.0</td>\n",
       "      <td>7.0</td>\n",
       "      <td>2013.0</td>\n",
       "      <td>NaN</td>\n",
       "      <td>“Se le hace más bien a la sociedad promover el...</td>\n",
       "      <td>https://www.minagricultura.gov.co/noticias/Pag...</td>\n",
       "      <td>“Vengo a poner la cara, a escucharlos y dentro...</td>\n",
       "      <td>2</td>\n",
       "      <td>2013-07-25</td>\n",
       "    </tr>\n",
       "  </tbody>\n",
       "</table>\n",
       "</div>"
      ],
      "text/plain": [
       "       dia  mes     año ubicacion  \\\n",
       "2881  31.0  7.0  2013.0       NaN   \n",
       "2882  30.0  7.0  2013.0       NaN   \n",
       "2883  28.0  7.0  2013.0       NaN   \n",
       "2884  25.0  7.0  2013.0       NaN   \n",
       "2885  25.0  7.0  2013.0       NaN   \n",
       "\n",
       "                                                 titulo  \\\n",
       "2881  La “URT” y el IGAC fijan parámetros técnicos p...   \n",
       "2882  En más de 600 mil toneladas se incrementó la p...   \n",
       "2883  MINAGRICULTURA Y “DIGNIDAD ARROCERA” EVALÚAN A...   \n",
       "2884  Más de mil familias campesinas del Catatumbo e...   \n",
       "2885  “Se le hace más bien a la sociedad promover el...   \n",
       "\n",
       "                                                    url  \\\n",
       "2881  https://www.minagricultura.gov.co/noticias/Pag...   \n",
       "2882  https://www.minagricultura.gov.co/noticias/Pag...   \n",
       "2883  https://www.minagricultura.gov.co/noticias/Pag...   \n",
       "2884  https://www.minagricultura.gov.co/noticias/Pag...   \n",
       "2885  https://www.minagricultura.gov.co/noticias/Pag...   \n",
       "\n",
       "                                                noticia  seccion      fecha  \n",
       "2881  BOGOTÁ D.C. - La identificación de los predios...        2 2013-07-31  \n",
       "2882  Un notable avance en la producción de maíz en ...        2 2013-07-30  \n",
       "2883  EL ESPINAL, TOLIMA.- El ministro de Agricultur...        2 2013-07-28  \n",
       "2884  BOGOTÁ D.C. - Veinte mil millones de pesos, de...        2 2013-07-25  \n",
       "2885  “Vengo a poner la cara, a escucharlos y dentro...        2 2013-07-25  "
      ]
     },
     "execution_count": 27,
     "metadata": {},
     "output_type": "execute_result"
    }
   ],
   "source": [
    "news.tail()"
   ]
  },
  {
   "cell_type": "code",
   "execution_count": 28,
   "metadata": {},
   "outputs": [],
   "source": [
    "# Ordena por fecha\n",
    "news.sort_values('fecha', inplace = True)"
   ]
  },
  {
   "cell_type": "code",
   "execution_count": 29,
   "metadata": {},
   "outputs": [
    {
     "data": {
      "text/html": [
       "<div>\n",
       "<style scoped>\n",
       "    .dataframe tbody tr th:only-of-type {\n",
       "        vertical-align: middle;\n",
       "    }\n",
       "\n",
       "    .dataframe tbody tr th {\n",
       "        vertical-align: top;\n",
       "    }\n",
       "\n",
       "    .dataframe thead th {\n",
       "        text-align: right;\n",
       "    }\n",
       "</style>\n",
       "<table border=\"1\" class=\"dataframe\">\n",
       "  <thead>\n",
       "    <tr style=\"text-align: right;\">\n",
       "      <th></th>\n",
       "      <th>dia</th>\n",
       "      <th>mes</th>\n",
       "      <th>año</th>\n",
       "      <th>ubicacion</th>\n",
       "      <th>titulo</th>\n",
       "      <th>url</th>\n",
       "      <th>noticia</th>\n",
       "      <th>seccion</th>\n",
       "      <th>fecha</th>\n",
       "    </tr>\n",
       "  </thead>\n",
       "  <tbody>\n",
       "    <tr>\n",
       "      <th>2881</th>\n",
       "      <td>15.0</td>\n",
       "      <td>5.0</td>\n",
       "      <td>2020.0</td>\n",
       "      <td>Bogotá</td>\n",
       "      <td>El sector agropecuario creció 6,8% e impulsó l...</td>\n",
       "      <td>https://www.minagricultura.gov.co/noticias/Pag...</td>\n",
       "      <td>El valor agregado del PIB agropecuario es el s...</td>\n",
       "      <td>2</td>\n",
       "      <td>2020-05-15</td>\n",
       "    </tr>\n",
       "    <tr>\n",
       "      <th>2882</th>\n",
       "      <td>15.0</td>\n",
       "      <td>5.0</td>\n",
       "      <td>2020.0</td>\n",
       "      <td>Bogotá</td>\n",
       "      <td>Con programa de apoyo a la comercialización se...</td>\n",
       "      <td>https://www.minagricultura.gov.co/noticias/Pag...</td>\n",
       "      <td>Se asignaron recursos por $2.700 millones para...</td>\n",
       "      <td>2</td>\n",
       "      <td>2020-05-15</td>\n",
       "    </tr>\n",
       "    <tr>\n",
       "      <th>2883</th>\n",
       "      <td>18.0</td>\n",
       "      <td>5.0</td>\n",
       "      <td>2020.0</td>\n",
       "      <td>Bogotá</td>\n",
       "      <td>Con rigurosos protocolos de bioseguridad, inic...</td>\n",
       "      <td>https://www.minagricultura.gov.co/noticias/Pag...</td>\n",
       "      <td>Con el objeto de blindar el estatus sanitario ...</td>\n",
       "      <td>2</td>\n",
       "      <td>2020-05-18</td>\n",
       "    </tr>\n",
       "    <tr>\n",
       "      <th>2884</th>\n",
       "      <td>NaN</td>\n",
       "      <td>NaN</td>\n",
       "      <td>NaN</td>\n",
       "      <td>NaN</td>\n",
       "      <td>Convocatoria. Exposicion pública de resultados...</td>\n",
       "      <td>https://www.minagricultura.gov.co/noticias/Pag...</td>\n",
       "      <td>El Programa de Formalización de la Propiedad R...</td>\n",
       "      <td>0</td>\n",
       "      <td>NaT</td>\n",
       "    </tr>\n",
       "    <tr>\n",
       "      <th>2885</th>\n",
       "      <td>NaN</td>\n",
       "      <td>NaN</td>\n",
       "      <td>NaN</td>\n",
       "      <td>NaN</td>\n",
       "      <td>Al menos $15 mil millones necesitaría un campe...</td>\n",
       "      <td>https://www.minagricultura.gov.co/noticias/Pag...</td>\n",
       "      <td>En un debate de control político en la Comisió...</td>\n",
       "      <td>0</td>\n",
       "      <td>NaT</td>\n",
       "    </tr>\n",
       "  </tbody>\n",
       "</table>\n",
       "</div>"
      ],
      "text/plain": [
       "       dia  mes     año ubicacion  \\\n",
       "2881  15.0  5.0  2020.0    Bogotá   \n",
       "2882  15.0  5.0  2020.0    Bogotá   \n",
       "2883  18.0  5.0  2020.0    Bogotá   \n",
       "2884   NaN  NaN     NaN       NaN   \n",
       "2885   NaN  NaN     NaN       NaN   \n",
       "\n",
       "                                                 titulo  \\\n",
       "2881  El sector agropecuario creció 6,8% e impulsó l...   \n",
       "2882  Con programa de apoyo a la comercialización se...   \n",
       "2883  Con rigurosos protocolos de bioseguridad, inic...   \n",
       "2884  Convocatoria. Exposicion pública de resultados...   \n",
       "2885  Al menos $15 mil millones necesitaría un campe...   \n",
       "\n",
       "                                                    url  \\\n",
       "2881  https://www.minagricultura.gov.co/noticias/Pag...   \n",
       "2882  https://www.minagricultura.gov.co/noticias/Pag...   \n",
       "2883  https://www.minagricultura.gov.co/noticias/Pag...   \n",
       "2884  https://www.minagricultura.gov.co/noticias/Pag...   \n",
       "2885  https://www.minagricultura.gov.co/noticias/Pag...   \n",
       "\n",
       "                                                noticia  seccion      fecha  \n",
       "2881  El valor agregado del PIB agropecuario es el s...        2 2020-05-15  \n",
       "2882  Se asignaron recursos por $2.700 millones para...        2 2020-05-15  \n",
       "2883  Con el objeto de blindar el estatus sanitario ...        2 2020-05-18  \n",
       "2884  El Programa de Formalización de la Propiedad R...        0        NaT  \n",
       "2885  En un debate de control político en la Comisió...        0        NaT  "
      ]
     },
     "execution_count": 29,
     "metadata": {},
     "output_type": "execute_result"
    }
   ],
   "source": [
    "# Reinicia el índice por fecha\n",
    "news.reset_index(inplace = True, drop = True)\n",
    "news.tail()"
   ]
  },
  {
   "cell_type": "code",
   "execution_count": 30,
   "metadata": {},
   "outputs": [],
   "source": [
    "def clean_texto(año):\n",
    "    return re.sub('|[|]', '', año)"
   ]
  },
  {
   "cell_type": "markdown",
   "metadata": {},
   "source": [
    "### Texto de noticias"
   ]
  },
  {
   "cell_type": "code",
   "execution_count": 31,
   "metadata": {},
   "outputs": [
    {
     "data": {
      "text/plain": [
       "'!\"#$%&\\'()*+,-./:;<=>?@[\\\\]^_`{|}~'"
      ]
     },
     "execution_count": 31,
     "metadata": {},
     "output_type": "execute_result"
    }
   ],
   "source": [
    "string.punctuation"
   ]
  },
  {
   "cell_type": "code",
   "execution_count": 32,
   "metadata": {},
   "outputs": [
    {
     "data": {
      "text/plain": [
       "'!\"#$%&\\'()*+,-./:;<=>?@[\\\\]^_`{|}~–¡‘’¿”“•´'"
      ]
     },
     "execution_count": 32,
     "metadata": {},
     "output_type": "execute_result"
    }
   ],
   "source": [
    "puntuacion = string.punctuation + '–¡‘’¿”“•´'\n",
    "puntuacion"
   ]
  },
  {
   "cell_type": "code",
   "execution_count": 33,
   "metadata": {},
   "outputs": [],
   "source": [
    "def no_punt(string):\n",
    "    strip_punt = string.maketrans('', '', puntuacion)\n",
    "    return string.translate(strip_punt)"
   ]
  },
  {
   "cell_type": "code",
   "execution_count": 34,
   "metadata": {},
   "outputs": [],
   "source": [
    "news['sin_punt'] = news['noticia'].apply(no_punt) # Sin puntuación\n",
    "news['sin_punt'] = news['sin_punt'].apply(str.lower) # Noticia en minúscula\n",
    "news['tokens'] = news['sin_punt'].apply(word_tokenize) # Noticia tokenizada"
   ]
  },
  {
   "cell_type": "code",
   "execution_count": 35,
   "metadata": {},
   "outputs": [],
   "source": [
    "stopwords_esp = stopwords.words('spanish')\n",
    "def stopword(tokens):\n",
    "    return [w for w in tokens if w not in stopwords_esp]\n",
    "news['sin_stopwords'] = news['tokens'].apply(stopword) # Sin palabras vacías"
   ]
  },
  {
   "cell_type": "code",
   "execution_count": 36,
   "metadata": {},
   "outputs": [],
   "source": [
    "# Objeto nltk.Text\n",
    "news['nltk_Text'] = news['sin_stopwords'].apply(nltk.Text)"
   ]
  },
  {
   "cell_type": "code",
   "execution_count": 37,
   "metadata": {},
   "outputs": [
    {
     "data": {
      "text/plain": [
       "dia                                                             25\n",
       "mes                                                              7\n",
       "año                                                           2013\n",
       "ubicacion                                                      NaN\n",
       "titulo           “Se le hace más bien a la sociedad promover el...\n",
       "url              https://www.minagricultura.gov.co/noticias/Pag...\n",
       "noticia          “Vengo a poner la cara, a escucharlos y dentro...\n",
       "seccion                                                          2\n",
       "fecha                                          2013-07-25 00:00:00\n",
       "sin_punt         vengo a poner la cara a escucharlos y dentro d...\n",
       "tokens           [vengo, a, poner, la, cara, a, escucharlos, y,...\n",
       "sin_stopwords    [vengo, poner, cara, escucharlos, dentro, posi...\n",
       "nltk_Text        (vengo, poner, cara, escucharlos, dentro, posi...\n",
       "Name: 0, dtype: object"
      ]
     },
     "execution_count": 37,
     "metadata": {},
     "output_type": "execute_result"
    }
   ],
   "source": [
    "news.iloc[0]"
   ]
  },
  {
   "cell_type": "code",
   "execution_count": 38,
   "metadata": {},
   "outputs": [],
   "source": [
    "news.to_pickle('news.pkl')"
   ]
  }
 ],
 "metadata": {
  "kernelspec": {
   "display_name": "Python 3",
   "language": "python",
   "name": "python3"
  },
  "language_info": {
   "codemirror_mode": {
    "name": "ipython",
    "version": 3
   },
   "file_extension": ".py",
   "mimetype": "text/x-python",
   "name": "python",
   "nbconvert_exporter": "python",
   "pygments_lexer": "ipython3",
   "version": "3.7.6"
  }
 },
 "nbformat": 4,
 "nbformat_minor": 4
}
