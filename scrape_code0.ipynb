{
 "cells": [
  {
   "cell_type": "markdown",
   "metadata": {},
   "source": [
    "Autor: Leonel Criado\n",
    "\n",
    "Proyecto: Análisis de noticias del Ministerio de Agricultura y Desarrollo Rural de Colombia\n",
    "\n",
    "Creado: 2020-05-15\n",
    "\n",
    "Meta: Código de Beautiful Soup para web scraping de links de noticias"
   ]
  },
  {
   "cell_type": "markdown",
   "metadata": {},
   "source": [
    "### Necesitamos:\n",
    "- Beautiful Soup"
   ]
  },
  {
   "cell_type": "code",
   "execution_count": 1,
   "metadata": {},
   "outputs": [],
   "source": [
    "# Librerías\n",
    "from bs4 import BeautifulSoup\n",
    "import requests\n",
    "import re"
   ]
  },
  {
   "cell_type": "code",
   "execution_count": 2,
   "metadata": {},
   "outputs": [
    {
     "name": "stdout",
     "output_type": "stream",
     "text": [
      "['https://www.minagricultura.gov.co/noticias/Paginas/Con-programa-de-apoyo-a-la-comercialización-se-busca-reactivar-compra-de-leche-en-varias-regiones-del-país.aspx', 'https://www.minagricultura.gov.co/noticias/Paginas/El-sector-agropecuario-creció-6,8-e-impulsó-la-economía-colombiana-en-el-primer-trimestre-de-2020-.aspx', 'https://www.minagricultura.gov.co/noticias/Paginas/MinAgricultura-dotará-con-riego-interpredial-a--5-910-hectáreas-de-unidades-familiares-campesinas.aspx', 'https://www.minagricultura.gov.co/noticias/Paginas/MinAgricultura-abre-convocatoria-para-el-“Campo-Emprende”,-con-el-cual-busca-beneficiar-a-más-de-9-mil-familias-vulnerables.aspx', 'https://www.minagricultura.gov.co/noticias/Paginas/Se-posesionó-el-nuevo-viceministro-de-Desarrollo-Rural,-Juan-Camilo-Restrepo.aspx', 'https://www.minagricultura.gov.co/noticias/Paginas/“La-cosecha-cafetera-contará-con-la-mano-de-obra-que-se-necesita”-MinAgricultura-Rodolfo-Zea-Navarro.aspx', 'https://www.minagricultura.gov.co/noticias/Paginas/Gobierno-presenta-recomendaciones-para-proteger-la-salud-de-productores-del-campo.aspx', 'https://www.minagricultura.gov.co/noticias/Paginas/1,2-de-1,5-billones-se-entregarán-a-medianos-y-pequeños-productores-del-campo-colombiano.aspx', 'https://www.minagricultura.gov.co/noticias/Paginas/$41-000-millones-invertirá-MinAgricultura-en-programa-“Alianzas-Productivas-para-la-Vida”,-para-asegurar-la-comercializació.aspx', 'https://www.minagricultura.gov.co/noticias/Paginas/Más-de-$311-000-millones-en-crédito-ha-otorgado-el-Gobierno-para-apoyar-a-productores-del-agro-durante-emergencia-por-Covid.aspx']\n"
     ]
    }
   ],
   "source": [
    "url = \"https://www.minagricultura.gov.co/noticias/SitePages/PrensaNoticias.aspx\"\n",
    "list_news = requests.get(url).text\n",
    "soup = BeautifulSoup(list_news)\n",
    "links = soup.find_all(id=\"allNews\")\n",
    "links = re.findall('\"(/noticias/Paginas/.+?)\"', str(links))\n",
    "for link, i in enumerate(links):\n",
    "    links[link] = \"https://www.minagricultura.gov.co\" + links[link]\n",
    "print(links)\n",
    "# Dado que la url no cambia entre las páginas con los links de noticias, no pude continuar con este método."
   ]
  }
 ],
 "metadata": {
  "kernelspec": {
   "display_name": "Python 3",
   "language": "python",
   "name": "python3"
  },
  "language_info": {
   "codemirror_mode": {
    "name": "ipython",
    "version": 3
   },
   "file_extension": ".py",
   "mimetype": "text/x-python",
   "name": "python",
   "nbconvert_exporter": "python",
   "pygments_lexer": "ipython3",
   "version": "3.7.6"
  }
 },
 "nbformat": 4,
 "nbformat_minor": 4
}
